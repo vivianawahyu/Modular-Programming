{
  "nbformat": 4,
  "nbformat_minor": 0,
  "metadata": {
    "colab": {
      "provenance": []
    },
    "kernelspec": {
      "name": "python3",
      "display_name": "Python 3"
    },
    "language_info": {
      "name": "python"
    }
  },
  "cells": [
    {
      "cell_type": "markdown",
      "source": [
        "soal 1"
      ],
      "metadata": {
        "id": "DoH_oVK61m-_"
      }
    },
    {
      "cell_type": "code",
      "source": [
        "def cek_angka(a, b, c):\n",
        "    if (a != b or a != c or b != c) and (a + b == c or a + c == b or b + c == a):\n",
        "        print(\"True\")\n",
        "    else:\n",
        "        print(\"False\")\n",
        "a = int(input(\" angka pertama: \"))\n",
        "b = int(input(\"angka kedua: \"))\n",
        "c = int(input(\"angka ketiga: \"))\n",
        "\n",
        "cek_angka(a, b, c)\n"
      ],
      "metadata": {
        "colab": {
          "base_uri": "https://localhost:8080/"
        },
        "id": "xMCTwLBD1pAi",
        "outputId": "80fb304e-91d4-49b3-9f17-6a76733f049c"
      },
      "execution_count": 1,
      "outputs": [
        {
          "output_type": "stream",
          "name": "stdout",
          "text": [
            " angka pertama: 5\n",
            "angka kedua: 10\n",
            "angka ketiga: 15\n",
            "True\n"
          ]
        }
      ]
    },
    {
      "cell_type": "markdown",
      "source": [
        "soal 2"
      ],
      "metadata": {
        "id": "JOTP0aF111vA"
      }
    },
    {
      "cell_type": "code",
      "source": [
        "def cek_digit_belakang():\n",
        "    a = int(input(\"angka pertama: \"))\n",
        "    b = int(input(\"angka kedua: \"))\n",
        "    c = int(input(\"angka ketiga: \"))\n",
        "\n",
        "    a = a % 10\n",
        "    b = b % 10\n",
        "    c = c % 10\n",
        "\n",
        "    if (a == b or b == c or a == c):\n",
        "        return True\n",
        "    else:\n",
        "        return False\n",
        "\n",
        "print(cek_digit_belakang())\n"
      ],
      "metadata": {
        "colab": {
          "base_uri": "https://localhost:8080/"
        },
        "id": "yHoz-ujb13jI",
        "outputId": "fd4f8145-2991-412b-c672-0d9ab067ae6a"
      },
      "execution_count": 2,
      "outputs": [
        {
          "output_type": "stream",
          "name": "stdout",
          "text": [
            "angka pertama: 10\n",
            "angka kedua: 20\n",
            "angka ketiga: 40\n",
            "True\n"
          ]
        }
      ]
    },
    {
      "cell_type": "markdown",
      "source": [
        "soal 3"
      ],
      "metadata": {
        "id": "BXpElX6o2BHy"
      }
    },
    {
      "cell_type": "code",
      "source": [
        "celcius_fahrenheit = lambda suhu : (9/5) * suhu + 32\n",
        "celcius_reamur = lambda suhu : 0.8 * suhu\n",
        "print(\"jika suhu = 100\", \"fahrenheit: \", celcius_fahrenheit(100))\n",
        "print(\"jika suhu = 80\", \"reamur: \", celcius_reamur(80))\n",
        "print(\"jika suhu = 0\", \"fahrenheit: \", celcius_fahrenheit(0))"
      ],
      "metadata": {
        "colab": {
          "base_uri": "https://localhost:8080/"
        },
        "id": "cPTAnMB02CHz",
        "outputId": "e6b06e44-1e45-4d94-c557-69b8764e54fb"
      },
      "execution_count": 3,
      "outputs": [
        {
          "output_type": "stream",
          "name": "stdout",
          "text": [
            "jika suhu = 100 fahrenheit:  212.0\n",
            "jika suhu = 80 reamur:  64.0\n",
            "jika suhu = 0 fahrenheit:  32.0\n"
          ]
        }
      ]
    }
  ]
}